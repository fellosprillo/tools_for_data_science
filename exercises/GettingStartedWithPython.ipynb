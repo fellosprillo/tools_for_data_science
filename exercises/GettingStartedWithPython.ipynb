{
 "cells": [
  {
   "cell_type": "markdown",
   "id": "a821ebd3",
   "metadata": {},
   "source": [
    "# Writing First python code\n",
    "---\n",
    "## Hello World!\n",
    "The following code will execute a Python code to print a string on the PC standard output"
   ]
  },
  {
   "cell_type": "markdown",
   "id": "b8e4be65",
   "metadata": {},
   "source": []
  },
  {
   "cell_type": "code",
   "execution_count": null,
   "id": "52a8c938",
   "metadata": {},
   "outputs": [],
   "source": [
    "print ('Hello World!')"
   ]
  },
  {
   "cell_type": "markdown",
   "id": "e4aa3701",
   "metadata": {},
   "source": [
    "---\n",
    "## Version of python used\n",
    "Execute the following code to check the python version in use.\n",
    "(The first line of the code is a comment)"
   ]
  },
  {
   "cell_type": "code",
   "execution_count": null,
   "id": "e460e037",
   "metadata": {},
   "outputs": [],
   "source": [
    "# Print the Python Version in use\n",
    "\n",
    "import sys\n",
    "print (sys.version)"
   ]
  },
  {
   "cell_type": "markdown",
   "id": "33da0fea",
   "metadata": {},
   "source": [
    "---\n",
    "## Types in Python\n",
    "Python is an object-oriented language. There are many different types of objects in Python. The most common object types are: <i>strings</i>, <i>integers</i> and <i>floats</i>."
   ]
  },
  {
   "cell_type": "code",
   "execution_count": null,
   "id": "c7a578e9",
   "metadata": {},
   "outputs": [],
   "source": [
    "# Getting the type of an expression by using the built-in type()function\n",
    "type(12)"
   ]
  },
  {
   "cell_type": "code",
   "execution_count": null,
   "id": "0c99303d",
   "metadata": {},
   "outputs": [],
   "source": [
    "type(3.14)"
   ]
  },
  {
   "cell_type": "code",
   "execution_count": null,
   "id": "3ff3b644",
   "metadata": {},
   "outputs": [],
   "source": [
    "type('Example')"
   ]
  },
  {
   "cell_type": "code",
   "execution_count": null,
   "id": "55cc384f",
   "metadata": {},
   "outputs": [],
   "source": [
    "# Get System settings about float type\n",
    "import sys\n",
    "sys.float_info"
   ]
  },
  {
   "cell_type": "markdown",
   "id": "9bba0696",
   "metadata": {},
   "source": [
    "---\n",
    "## Convert from one object type to a different object type"
   ]
  },
  {
   "cell_type": "code",
   "execution_count": null,
   "id": "2d755a04",
   "metadata": {},
   "outputs": [],
   "source": [
    "# Verify that this is an integer\n",
    "\n",
    "type(2)"
   ]
  },
  {
   "cell_type": "code",
   "execution_count": null,
   "id": "3b04af80",
   "metadata": {},
   "outputs": [],
   "source": [
    "# Convert 2 to a float\n",
    "\n",
    "float(2)"
   ]
  },
  {
   "cell_type": "code",
   "execution_count": null,
   "id": "ce22ce54",
   "metadata": {},
   "outputs": [],
   "source": [
    "# Convert integer 2 to a float and check its type\n",
    "\n",
    "type(float(2))"
   ]
  },
  {
   "cell_type": "code",
   "execution_count": null,
   "id": "df2f4afe",
   "metadata": {},
   "outputs": [],
   "source": [
    "# Casting 1.1 to integer will result in loss of information\n",
    "\n",
    "int(1.1)"
   ]
  },
  {
   "cell_type": "code",
   "execution_count": null,
   "id": "036428dc",
   "metadata": {},
   "outputs": [],
   "source": [
    "# Convert a string into an integer\n",
    "\n",
    "int('1')"
   ]
  },
  {
   "cell_type": "code",
   "execution_count": null,
   "id": "248a7b2a",
   "metadata": {},
   "outputs": [],
   "source": [
    "# Convert the string \"1.2\" into a float\n",
    "\n",
    "float('1.2')"
   ]
  },
  {
   "cell_type": "code",
   "execution_count": null,
   "id": "357f28e2",
   "metadata": {},
   "outputs": [],
   "source": [
    "# Convert an integer to a string\n",
    "\n",
    "str(1)"
   ]
  },
  {
   "cell_type": "code",
   "execution_count": null,
   "id": "f9bd75ba",
   "metadata": {},
   "outputs": [],
   "source": [
    "# Convert a float to a string\n",
    "\n",
    "str(1.2)"
   ]
  },
  {
   "cell_type": "markdown",
   "id": "e504c3e1",
   "metadata": {},
   "source": [
    "---\n",
    "## Boolean data type\n",
    "An object of type Boolean can take on one of two values: <code>True</code> or <code>False</code>:</p>\n"
   ]
  },
  {
   "cell_type": "code",
   "execution_count": null,
   "id": "96e6e779",
   "metadata": {},
   "outputs": [],
   "source": [
    "# Type of True\n",
    "\n",
    "type(True)"
   ]
  },
  {
   "cell_type": "code",
   "execution_count": null,
   "id": "a26edac2",
   "metadata": {},
   "outputs": [],
   "source": [
    "# Convert True to int\n",
    "\n",
    "int(True)"
   ]
  },
  {
   "cell_type": "code",
   "execution_count": null,
   "id": "5cfd2688",
   "metadata": {},
   "outputs": [],
   "source": [
    "# Convert 1 to boolean\n",
    "\n",
    "bool(1)"
   ]
  },
  {
   "cell_type": "code",
   "execution_count": null,
   "id": "c2f7dae3",
   "metadata": {},
   "outputs": [],
   "source": [
    "# Convert 0 to boolean\n",
    "\n",
    "bool(0)"
   ]
  },
  {
   "cell_type": "markdown",
   "id": "bb1f5e26",
   "metadata": {},
   "source": []
  }
 ],
 "metadata": {
  "kernelspec": {
   "display_name": "Python 3",
   "language": "python",
   "name": "python3"
  },
  "language_info": {
   "codemirror_mode": {
    "name": "ipython",
    "version": 3
   },
   "file_extension": ".py",
   "mimetype": "text/x-python",
   "name": "python",
   "nbconvert_exporter": "python",
   "pygments_lexer": "ipython3",
   "version": "3.13.7"
  }
 },
 "nbformat": 4,
 "nbformat_minor": 5
}
