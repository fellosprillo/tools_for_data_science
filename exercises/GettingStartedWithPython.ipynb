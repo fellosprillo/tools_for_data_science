{
 "cells": [
  {
   "cell_type": "markdown",
   "id": "a821ebd3",
   "metadata": {},
   "source": [
    "# Writing Your First Python Code\n",
    "---\n",
    "## Hello World!\n",
    "This notebook will guide you through the basics of Python programming.\n",
    "You will learn how to write and execute Python code, understand data types, perform type conversions, use variables, and work with strings.\n",
    "\n",
    "The following code will execute a Python command to print a string to the standard output."
   ]
  },
  {
   "cell_type": "code",
   "execution_count": null,
   "id": "52a8c938",
   "metadata": {},
   "outputs": [],
   "source": [
    "# This is the classic first program in Python.\n",
    "# It prints the string 'Hello World!' to the standard output.\n",
    "print('Hello World!')"
   ]
  },
  {
   "cell_type": "markdown",
   "id": "e4aa3701",
   "metadata": {},
   "source": [
    "---\n",
    "## Version of Python Used\n",
    "It is important to know which version of Python you are using, as syntax and features may differ between versions.\n",
    "The following code will display the Python version currently in use.\n",
    "(The first line of the code is a comment.)"
   ]
  },
  {
   "cell_type": "code",
   "execution_count": null,
   "id": "e460e037",
   "metadata": {},
   "outputs": [],
   "source": [
    "# This code imports the sys module, which provides access to system-specific parameters and functions.\n",
    "# It then prints the version of Python currently being used.\n",
    "import sys\n",
    "print(sys.version)"
   ]
  },
  {
   "cell_type": "markdown",
   "id": "33da0fea",
   "metadata": {},
   "source": [
    "---\n",
    "## Types in Python\n",
    "Python is an object-oriented language. There are many different types of objects in Python.\n",
    "The most common object types are:\n",
    "- **Strings**: sequences of characters, e.g., \"Hello\"\n",
    "- **Integers**: whole numbers, e.g., 42\n",
    "- **Floats**: numbers with decimal points, e.g., 3.14\n",
    "You can use the `type()` function to check the type of any object."
   ]
  },
  {
   "cell_type": "code",
   "execution_count": null,
   "id": "c7a578e9",
   "metadata": {},
   "outputs": [],
   "source": [
    "# The type() function returns the type of the specified object.\n",
    "# Here, we check the type of the integer 12.\n",
    "type(12)"
   ]
  },
  {
   "cell_type": "code",
   "execution_count": null,
   "id": "0c99303d",
   "metadata": {},
   "outputs": [],
   "source": [
    "# Check the type of a floating point number.\n",
    "type(3.14)"
   ]
  },
  {
   "cell_type": "code",
   "execution_count": null,
   "id": "3ff3b644",
   "metadata": {},
   "outputs": [],
   "source": [
    "# Check the type of a string object.\n",
    "type('Example')"
   ]
  },
  {
   "cell_type": "code",
   "execution_count": null,
   "id": "55cc384f",
   "metadata": {},
   "outputs": [],
   "source": [
    "# Get system settings about the float type using sys.float_info.\n",
    "# This provides information such as maximum representable positive number, epsilon, etc.\n",
    "import sys\n",
    "sys.float_info"
   ]
  },
  {
   "cell_type": "markdown",
   "id": "9bba0696",
   "metadata": {},
   "source": [
    "---\n",
    "## Convert from One Object Type to Another\n",
    "Python allows you to convert objects from one type to another using built-in functions like `int()`, `float()`, and `str()`.\n",
    "This process is called *type casting* or *type conversion*."
   ]
  },
  {
   "cell_type": "code",
   "execution_count": null,
   "id": "2d755a04",
   "metadata": {},
   "outputs": [],
   "source": [
    "# Verify that this is an integer using type().\n",
    "type(2)"
   ]
  },
  {
   "cell_type": "code",
   "execution_count": null,
   "id": "3b04af80",
   "metadata": {},
   "outputs": [],
   "source": [
    "# Convert the integer 2 to a float using float().\n",
    "float(2)"
   ]
  },
  {
   "cell_type": "code",
   "execution_count": null,
   "id": "ce22ce54",
   "metadata": {},
   "outputs": [],
   "source": [
    "# Convert integer 2 to a float and check its type.\n",
    "type(float(2))"
   ]
  },
  {
   "cell_type": "code",
   "execution_count": null,
   "id": "df2f4afe",
   "metadata": {},
   "outputs": [],
   "source": [
    "# Casting 1.1 to integer will result in loss of information after the decimal point.\n",
    "int(1.1)"
   ]
  },
  {
   "cell_type": "code",
   "execution_count": null,
   "id": "036428dc",
   "metadata": {},
   "outputs": [],
   "source": [
    "# Convert a string containing an integer value into an actual integer.\n",
    "int('1')"
   ]
  },
  {
   "cell_type": "code",
   "execution_count": null,
   "id": "248a7b2a",
   "metadata": {},
   "outputs": [],
   "source": [
    "# Convert the string \"1.2\" into a float value.\n",
    "float('1.2')"
   ]
  },
  {
   "cell_type": "code",
   "execution_count": null,
   "id": "357f28e2",
   "metadata": {},
   "outputs": [],
   "source": [
    "# Convert an integer to a string using str().\n",
    "str(1)"
   ]
  },
  {
   "cell_type": "code",
   "execution_count": null,
   "id": "f9bd75ba",
   "metadata": {},
   "outputs": [],
   "source": [
    "# Convert a float to a string using str().\n",
    "str(1.2)"
   ]
  },
  {
   "cell_type": "markdown",
   "id": "e504c3e1",
   "metadata": {},
   "source": [
    "---\n",
    "## Boolean Data Type\n",
    "An object of type Boolean can take on one of two values: `True` or `False`.\n",
    "Booleans are useful for representing binary states, such as on/off, yes/no, or true/false."
   ]
  },
  {
   "cell_type": "code",
   "execution_count": null,
   "id": "96e6e779",
   "metadata": {},
   "outputs": [],
   "source": [
    "# The Boolean type in Python can be either True or False.\n",
    "# Here, we check the type of the value True.\n",
    "type(True)"
   ]
  },
  {
   "cell_type": "code",
   "execution_count": null,
   "id": "a26edac2",
   "metadata": {},
   "outputs": [],
   "source": [
    "# Convert the Boolean value True to an integer.\n",
    "# True is represented as 1 in Python.\n",
    "int(True)"
   ]
  },
  {
   "cell_type": "code",
   "execution_count": null,
   "id": "5cfd2688",
   "metadata": {},
   "outputs": [],
   "source": [
    "# Convert the integer 1 to a Boolean value.\n",
    "# Any non-zero integer is considered True in Python.\n",
    "bool(1)"
   ]
  },
  {
   "cell_type": "code",
   "execution_count": null,
   "id": "c2f7dae3",
   "metadata": {},
   "outputs": [],
   "source": [
    "# Convert the integer 0 to a Boolean value.\n",
    "# Zero is considered False in Python.\n",
    "bool(0)"
   ]
  },
  {
   "cell_type": "markdown",
   "id": "bb1f5e26",
   "metadata": {},
   "source": [
    "---\n",
    "## Expressions and Variables\n",
    "- **Expressions** are operations that Python performs to produce a value.\n",
    "- **Variables** are used to store values so they can be reused or manipulated later.\n",
    "\n",
    "Let's see how to use variables to store the result of an expression."
   ]
  },
  {
   "cell_type": "code",
   "execution_count": null,
   "id": "b8960097",
   "metadata": {},
   "outputs": [],
   "source": [
    "# Store the result of an arithmetic expression into a variable named x.\n",
    "x = 43 + 60 + 16 + 41"
   ]
  },
  {
   "cell_type": "code",
   "execution_count": null,
   "id": "323d49d3",
   "metadata": {},
   "outputs": [],
   "source": [
    "# Print out the value stored in variable x.\n",
    "x"
   ]
  },
  {
   "cell_type": "markdown",
   "id": "636d7a8c",
   "metadata": {},
   "source": [
    "---\n",
    "## Strings\n",
    "Strings are sequences of characters and are one of the most commonly used data types in Python.\n",
    "You can access individual characters in a string using indexing."
   ]
  },
  {
   "cell_type": "code",
   "execution_count": null,
   "id": "0e06d61a",
   "metadata": {},
   "outputs": [],
   "source": [
    "# Assign a string value to the variable 'name'.\n",
    "name = \"The String Variable\"\n",
    "# Display the value of the variable 'name'.\n",
    "name"
   ]
  },
  {
   "cell_type": "code",
   "execution_count": null,
   "id": "40998c00",
   "metadata": {},
   "outputs": [],
   "source": [
    "# Print the first character in the string stored in 'name'.\n",
    "print(name[0])"
   ]
  },
  {
   "cell_type": "code",
   "execution_count": null,
   "id": "8ee04842",
   "metadata": {},
   "outputs": [],
   "source": [
    "# Print the last character in the string stored in 'name'.\n",
    "print(name[-1])"
   ]
  }
 ],
 "metadata": {
  "kernelspec": {
   "display_name": "Python 3",
   "language": "python",
   "name": "python3"
  },
  "language_info": {
   "codemirror_mode": {
    "name": "ipython",
    "version": 3
   },
   "file_extension": ".py",
   "mimetype": "text/x-python",
   "name": "python",
   "nbconvert_exporter": "python",
   "pygments_lexer": "ipython3",
   "version": "3.13.7"
  }
 },
 "nbformat": 4,
 "nbformat_minor": 5
}
