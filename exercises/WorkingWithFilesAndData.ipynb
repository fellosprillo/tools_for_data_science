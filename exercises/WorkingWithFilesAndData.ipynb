{
 "cells": [
  {
   "cell_type": "markdown",
   "id": "33fa3a14",
   "metadata": {},
   "source": [
    "# Working with Files and Data with Python\n",
    "\n",
    "This notebook provides a comprehensive guide to handling files and data using Python. It covers essential techniques for reading, writing, and manipulating files in various formats, including plain text, CSV, and JSON. Through practical examples and clear explanations, you will learn how to efficiently manage data, automate file operations, and leverage Python's powerful libraries for data processing. Whether you are a beginner or looking to enhance your file handling skills, this notebook serves as a valuable resource for mastering data workflows in Python."
   ]
  },
  {
   "cell_type": "markdown",
   "id": "9494250b",
   "metadata": {},
   "source": [
    "---\n",
    "## Examples"
   ]
  },
  {
   "cell_type": "code",
   "execution_count": null,
   "id": "332d5fe6",
   "metadata": {},
   "outputs": [],
   "source": [
    "# Open a file and read its content\n",
    "with open('Example1.txt') as file1:\n",
    "    file_stuff = file1.read()\n",
    "    print(file_stuff)\n",
    "print(file1.closed) # Verify that the file is closed\n",
    "print(file_stuff) # Print the content of the file"
   ]
  },
  {
   "cell_type": "markdown",
   "id": "eb94befc",
   "metadata": {},
   "source": [
    "The advantages of using with statemente are:\n",
    "- Automatic resource management: The file is guaranteed to be closed when you exit the with block, even if an exception occurs during processing.\n",
    "- Cleaner and more concise code: You don't need to explicitly call close(), making your code more readable and less error-prone."
   ]
  },
  {
   "cell_type": "code",
   "execution_count": null,
   "id": "fe1c3278",
   "metadata": {},
   "outputs": [],
   "source": [
    "# Read only the first line of a file\n",
    "with open('Example1.txt') as file1:\n",
    "    file_stuff = file1.readline() # Read the first line\n",
    "    print(file_stuff) # Print the first line"
   ]
  },
  {
   "cell_type": "code",
   "execution_count": null,
   "id": "66b05719",
   "metadata": {},
   "outputs": [],
   "source": [
    "# Read only the first 4 characters of the first line\n",
    "with open('Example1.txt') as file1:\n",
    "    file_stuff = file1.readline(4) # Read the first 4 characters of the first line\n",
    "    print(file_stuff) # Print the first 4 characters of the first line"
   ]
  }
 ],
 "metadata": {
  "kernelspec": {
   "display_name": "Python 3",
   "language": "python",
   "name": "python3"
  },
  "language_info": {
   "codemirror_mode": {
    "name": "ipython",
    "version": 3
   },
   "file_extension": ".py",
   "mimetype": "text/x-python",
   "name": "python",
   "nbconvert_exporter": "python",
   "pygments_lexer": "ipython3",
   "version": "3.13.7"
  }
 },
 "nbformat": 4,
 "nbformat_minor": 5
}
